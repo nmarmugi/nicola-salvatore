{
 "cells": [
  {
   "cell_type": "code",
   "execution_count": 6,
   "id": "70324fc9",
   "metadata": {},
   "outputs": [],
   "source": [
    "import os, requests, uuid\n",
    "from flask import Flask, request, jsonify, url_for\n",
    "import base64"
   ]
  },
  {
   "cell_type": "code",
   "execution_count": 3,
   "id": "a60c0b7f",
   "metadata": {},
   "outputs": [
    {
     "name": "stdout",
     "output_type": "stream",
     "text": [
      "Trovati 9 avatar:\n",
      "  • id: Avatar9.png, src: https://github.com/nmarmugi/nicola-salvatore/blob/main/backend/avatars/Avatar9.png?raw=true\n",
      "  • id: Avatar8.png, src: https://github.com/nmarmugi/nicola-salvatore/blob/main/backend/avatars/Avatar8.png?raw=true\n",
      "  • id: Avatar5.png, src: https://github.com/nmarmugi/nicola-salvatore/blob/main/backend/avatars/Avatar5.png?raw=true\n",
      "  • id: Avatar4.png, src: https://github.com/nmarmugi/nicola-salvatore/blob/main/backend/avatars/Avatar4.png?raw=true\n",
      "  • id: Avatar6.png, src: https://github.com/nmarmugi/nicola-salvatore/blob/main/backend/avatars/Avatar6.png?raw=true\n",
      "  • id: Avatar7.png, src: https://github.com/nmarmugi/nicola-salvatore/blob/main/backend/avatars/Avatar7.png?raw=true\n",
      "  • id: Avatar3.png, src: https://github.com/nmarmugi/nicola-salvatore/blob/main/backend/avatars/Avatar3.png?raw=true\n",
      "  • id: Avatar2.png, src: https://github.com/nmarmugi/nicola-salvatore/blob/main/backend/avatars/Avatar2.png?raw=true\n",
      "  • id: Avatar1.png, src: https://github.com/nmarmugi/nicola-salvatore/blob/main/backend/avatars/Avatar1.png?raw=true\n"
     ]
    }
   ],
   "source": [
    "url = 'https://7d6c88e48168b72da138d13affb54ef0.serveo.net/api/avatar_images'\n",
    "try:\n",
    "    resp = requests.get(url, timeout=5)\n",
    "    resp.raise_for_status()   # solleva un’eccezione per status >=400\n",
    "except requests.RequestException as e:\n",
    "    print(f\"Errore nella chiamata API: {e}\")\n",
    "\n",
    "avatars = resp.json()\n",
    "print(f\"Trovati {len(avatars)} avatar:\")\n",
    "for avatar in avatars:\n",
    "    print(f\"  • id: {avatar['id']}, src: {avatar['src']}\")\n"
   ]
  },
  {
   "cell_type": "code",
   "execution_count": 9,
   "id": "fcf6e3b2",
   "metadata": {},
   "outputs": [
    {
     "data": {
      "text/plain": [
       "'88083920-155c-4148-b321-6eaae8f9e249'"
      ]
     },
     "execution_count": 9,
     "metadata": {},
     "output_type": "execute_result"
    }
   ],
   "source": [
    "str(uuid.uuid4())"
   ]
  },
  {
   "cell_type": "code",
   "execution_count": null,
   "id": "81e80f7a",
   "metadata": {},
   "outputs": [],
   "source": []
  }
 ],
 "metadata": {
  "kernelspec": {
   "display_name": "dl-gpu",
   "language": "python",
   "name": "python3"
  },
  "language_info": {
   "codemirror_mode": {
    "name": "ipython",
    "version": 3
   },
   "file_extension": ".py",
   "mimetype": "text/x-python",
   "name": "python",
   "nbconvert_exporter": "python",
   "pygments_lexer": "ipython3",
   "version": "3.11.0"
  }
 },
 "nbformat": 4,
 "nbformat_minor": 5
}
